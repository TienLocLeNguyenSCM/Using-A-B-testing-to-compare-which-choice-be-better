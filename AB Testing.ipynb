{
 "cells": [
  {
   "cell_type": "markdown",
   "id": "7cee3688",
   "metadata": {},
   "source": [
    "# Using A/B Testing to determine which combo will have better performance"
   ]
  },
  {
   "cell_type": "code",
   "execution_count": 1,
   "id": "7766c380",
   "metadata": {},
   "outputs": [],
   "source": [
    "#Using CR to compare between 2 combos"
   ]
  },
  {
   "cell_type": "code",
   "execution_count": null,
   "id": "137069dd",
   "metadata": {},
   "outputs": [],
   "source": []
  },
  {
   "cell_type": "code",
   "execution_count": 25,
   "id": "d134c42a",
   "metadata": {},
   "outputs": [
    {
     "data": {
      "text/html": [
       "<div>\n",
       "<style scoped>\n",
       "    .dataframe tbody tr th:only-of-type {\n",
       "        vertical-align: middle;\n",
       "    }\n",
       "\n",
       "    .dataframe tbody tr th {\n",
       "        vertical-align: top;\n",
       "    }\n",
       "\n",
       "    .dataframe thead th {\n",
       "        text-align: right;\n",
       "    }\n",
       "</style>\n",
       "<table border=\"1\" class=\"dataframe\">\n",
       "  <thead>\n",
       "    <tr style=\"text-align: right;\">\n",
       "      <th></th>\n",
       "      <th>date</th>\n",
       "      <th>product</th>\n",
       "      <th>platform</th>\n",
       "      <th>visitor</th>\n",
       "      <th>pageview</th>\n",
       "      <th>item_sold</th>\n",
       "      <th>atc_qty</th>\n",
       "      <th>atc_visitor</th>\n",
       "      <th>order</th>\n",
       "      <th>buyer</th>\n",
       "      <th>gmv</th>\n",
       "      <th>net_profit</th>\n",
       "    </tr>\n",
       "  </thead>\n",
       "  <tbody>\n",
       "    <tr>\n",
       "      <th>0</th>\n",
       "      <td>2019-06-01</td>\n",
       "      <td>combo_A</td>\n",
       "      <td>#001</td>\n",
       "      <td>709.0</td>\n",
       "      <td>785</td>\n",
       "      <td>43</td>\n",
       "      <td>156</td>\n",
       "      <td>109</td>\n",
       "      <td>39</td>\n",
       "      <td>29</td>\n",
       "      <td>19494964</td>\n",
       "      <td>9748832</td>\n",
       "    </tr>\n",
       "    <tr>\n",
       "      <th>1</th>\n",
       "      <td>2019-06-01</td>\n",
       "      <td>combo_B</td>\n",
       "      <td>#001</td>\n",
       "      <td>695.0</td>\n",
       "      <td>790</td>\n",
       "      <td>48</td>\n",
       "      <td>140</td>\n",
       "      <td>103</td>\n",
       "      <td>34</td>\n",
       "      <td>18</td>\n",
       "      <td>11841020</td>\n",
       "      <td>9074895</td>\n",
       "    </tr>\n",
       "    <tr>\n",
       "      <th>2</th>\n",
       "      <td>2019-06-01</td>\n",
       "      <td>combo_A</td>\n",
       "      <td>#002</td>\n",
       "      <td>621.0</td>\n",
       "      <td>743</td>\n",
       "      <td>59</td>\n",
       "      <td>118</td>\n",
       "      <td>96</td>\n",
       "      <td>54</td>\n",
       "      <td>51</td>\n",
       "      <td>26931781</td>\n",
       "      <td>13496977</td>\n",
       "    </tr>\n",
       "    <tr>\n",
       "      <th>3</th>\n",
       "      <td>2019-06-01</td>\n",
       "      <td>combo_B</td>\n",
       "      <td>#002</td>\n",
       "      <td>17.0</td>\n",
       "      <td>84</td>\n",
       "      <td>23</td>\n",
       "      <td>5</td>\n",
       "      <td>4</td>\n",
       "      <td>22</td>\n",
       "      <td>28</td>\n",
       "      <td>7641504</td>\n",
       "      <td>5851164</td>\n",
       "    </tr>\n",
       "    <tr>\n",
       "      <th>4</th>\n",
       "      <td>2019-06-01</td>\n",
       "      <td>combo_A</td>\n",
       "      <td>#003</td>\n",
       "      <td>181.0</td>\n",
       "      <td>290</td>\n",
       "      <td>15</td>\n",
       "      <td>40</td>\n",
       "      <td>31</td>\n",
       "      <td>13</td>\n",
       "      <td>-2</td>\n",
       "      <td>6487981</td>\n",
       "      <td>3236002</td>\n",
       "    </tr>\n",
       "  </tbody>\n",
       "</table>\n",
       "</div>"
      ],
      "text/plain": [
       "        date  product platform  visitor  pageview  item_sold  atc_qty  \\\n",
       "0 2019-06-01  combo_A     #001    709.0       785         43      156   \n",
       "1 2019-06-01  combo_B     #001    695.0       790         48      140   \n",
       "2 2019-06-01  combo_A     #002    621.0       743         59      118   \n",
       "3 2019-06-01  combo_B     #002     17.0        84         23        5   \n",
       "4 2019-06-01  combo_A     #003    181.0       290         15       40   \n",
       "\n",
       "   atc_visitor  order  buyer       gmv  net_profit  \n",
       "0          109     39     29  19494964     9748832  \n",
       "1          103     34     18  11841020     9074895  \n",
       "2           96     54     51  26931781    13496977  \n",
       "3            4     22     28   7641504     5851164  \n",
       "4           31     13     -2   6487981     3236002  "
      ]
     },
     "execution_count": 25,
     "metadata": {},
     "output_type": "execute_result"
    }
   ],
   "source": [
    "import pandas as pd\n",
    "import matplotlib.pyplot as plt\n",
    "import numpy as np\n",
    "df = pd.read_excel(r'C:\\Users\\LENOVO\\Downloads\\a_b_testing.xlsx')\n",
    "df['date'] = pd.to_datetime(df['date'], format = '%Y-%m-%d')\n",
    "df['visitor'] = pd.to_numeric(df['visitor'])\n",
    "df.head()"
   ]
  },
  {
   "cell_type": "code",
   "execution_count": 32,
   "id": "25bc55bc",
   "metadata": {},
   "outputs": [
    {
     "name": "stdout",
     "output_type": "stream",
     "text": [
      "A: CR1 = 6.716 _ CR2 = 2.373\n"
     ]
    }
   ],
   "source": [
    "df_A = df[df['product'] == 'combo_A']\n",
    "CR1_A = round((df_A['visitor'].sum())/(df_A['atc_visitor'].sum()),3)\n",
    "CR2_A = round((df_A['atc_visitor'].sum())/(df_A['buyer'].sum()),3)"
   ]
  },
  {
   "cell_type": "code",
   "execution_count": 33,
   "id": "e12e79af",
   "metadata": {},
   "outputs": [
    {
     "name": "stdout",
     "output_type": "stream",
     "text": [
      "A: CR1 = 6.716 _ CR2 = 2.373\n",
      "B: CR1 = 6.418 _ CR2 = 2.438\n"
     ]
    }
   ],
   "source": [
    "df_B = df[df['product'] == 'combo_B']\n",
    "CR1_B = round((df_B['visitor'].sum())/(df_B['atc_visitor'].sum()),3)\n",
    "CR2_B = round((df_B['atc_visitor'].sum())/(df_B['buyer'].sum()),3)\n",
    "print('A: ' + 'CR1 = ' + str(CR1_A) +' _ ' + 'CR2 = ' + str(CR2_A))\n",
    "print('B: ' + 'CR1 = ' + str(CR1_B) +' _ ' + 'CR2 = ' + str(CR2_B))"
   ]
  },
  {
   "cell_type": "code",
   "execution_count": 35,
   "id": "610f7549",
   "metadata": {},
   "outputs": [],
   "source": [
    "## Dựa trên kết quả ta dễ dàng thấy được: Đối với combo A thì tỉ lệ giữa người xem và người thực sự thêm hàng vào giỏ cao hơn so với combo B chứng tỏ combo B đem lại cảm giác muốn mua hơn so với combo A. Tuy vậy thì tỉ lệ người thực sự xác nhận mua hàng ở combo A lại lớn hơn combo B => combo A có tỉ lệ người mua cao hơn so với combo B"
   ]
  },
  {
   "cell_type": "code",
   "execution_count": 36,
   "id": "349fefbd",
   "metadata": {},
   "outputs": [],
   "source": [
    "## compare the profit between 2 combos"
   ]
  },
  {
   "cell_type": "code",
   "execution_count": 44,
   "id": "a4121dc1",
   "metadata": {},
   "outputs": [
    {
     "data": {
      "text/plain": [
       "[841294994, 782885882, 851592184]"
      ]
     },
     "execution_count": 44,
     "metadata": {},
     "output_type": "execute_result"
    }
   ],
   "source": [
    "def get_sum_profit(dataframe):\n",
    "    june = (dataframe['date'] >= '2019-06-01') & (dataframe['date'] <= '2019-06-30')\n",
    "    july = (dataframe['date'] >= '2019-07-01') & (dataframe['date'] <= '2019-07-31')\n",
    "    august = (dataframe['date'] >= '2019-08-01') & (dataframe['date'] <= '2019-08-31')\n",
    "    \n",
    "    profit_june = dataframe[june]['net_profit'].sum()\n",
    "    profit_july = dataframe[july]['net_profit'].sum()\n",
    "    profit_august = dataframe[august]['net_profit'].sum()\n",
    "    return [profit_june, profit_july, profit_august]\n",
    "\n",
    "profit_A = get_sum_profit(df_A)\n",
    "profit_B = get_sum_profit(df_B)\n",
    "profit_B"
   ]
  },
  {
   "cell_type": "code",
   "execution_count": 52,
   "id": "865439e9",
   "metadata": {},
   "outputs": [
    {
     "data": {
      "image/png": "[encoded data removed]",
      "text/plain": [
       "<Figure size 432x288 with 1 Axes>"
      ]
     },
     "metadata": {
      "needs_background": "light"
     },
     "output_type": "display_data"
    },
    {
     "data": {
      "text/plain": [
       "<Figure size 1280x1600 with 0 Axes>"
      ]
     },
     "metadata": {},
     "output_type": "display_data"
    }
   ],
   "source": [
    "group = ['june', 'july', 'august']\n",
    "x_axis = np.arange(len(group))\n",
    "\n",
    "plt.bar(x_axis - 0.2, profit_A, 0.4, label = 'net profit of combo A', color= 'g')\n",
    "plt.bar(x_axis + 0.2, profit_B, 0.4, label = 'net profit of combo B', color = 'tab:cyan')\n",
    "plt.xticks(x_axis, group)\n",
    "plt.xlabel('month')\n",
    "plt.ylabel('net profit')\n",
    "plt.title('net profit of each combo from June 2019 to August 2019')\n",
    "plt.legend()\n",
    "plt.figure(figsize = (16,20), dpi = 80)\n",
    "plt.show()"
   ]
  },
  {
   "cell_type": "code",
   "execution_count": null,
   "id": "4eeb8ea0",
   "metadata": {},
   "outputs": [],
   "source": [
    "#Như vậy, ta có thể thấy sự liên hệ so với CR của từng combo: combo A có tỉ lệ chuyển đổi giữa khách mua và người xem cao hơn combo B => combo A đem lại nhiều doanh thu và lợi nhuận hơn combo B => Tập trung triển khai các chiến lược bán hàng liên quan tới combo A"
   ]
  }
 ],
 "metadata": {
  "kernelspec": {
   "display_name": "Python 3 (ipykernel)",
   "language": "python",
   "name": "python3"
  },
  "language_info": {
   "codemirror_mode": {
    "name": "ipython",
    "version": 3
   },
   "file_extension": ".py",
   "mimetype": "text/x-python",
   "name": "python",
   "nbconvert_exporter": "python",
   "pygments_lexer": "ipython3",
   "version": "3.9.12"
  }
 },
 "nbformat": 4,
 "nbformat_minor": 5
}
